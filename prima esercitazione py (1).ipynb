{
 "cells": [
  {
   "cell_type": "code",
   "execution_count": null,
   "id": "3f16b3a5-cdd0-4adc-9aea-7d2449ec137f",
   "metadata": {},
   "outputs": [],
   "source": [
    "#Individuiamo tre task di qualsiasi tipo \n",
    "#(fare la spesa, studiare un concetto, riempire il serbatoio dell'auto, acquistare uno snack da un distributore automatico,\n",
    "#o qualunque altra cosa); Scriviamo un algoritmo (in forma testuale), cioè i passi necessari, per ognuno dei task selezionati.\n",
    "\n",
    "#input(portare auto al meccanico)\n",
    "#prendere chiavi auto\n",
    "#aprire auto\n",
    "#accendere auto\n",
    "#guidare auto\n",
    "#autput lasciare auto al meccanico"
   ]
  },
  {
   "cell_type": "code",
   "execution_count": null,
   "id": "f218565d-b232-4272-8ee8-9e3dfc7a9cef",
   "metadata": {},
   "outputs": [],
   "source": [
    "#input(preparazione pizza)\n",
    "#prendere ingredienti\n",
    "#inizio lavorazione ingredienti\n",
    "#metterla nel forno\n",
    "#tirarla fuori dopo la cottura\n",
    "#output pizza pronta"
   ]
  },
  {
   "cell_type": "code",
   "execution_count": null,
   "id": "cff87c1e-befc-43a6-90a6-233ec8533ab0",
   "metadata": {},
   "outputs": [],
   "source": [
    "#input(risoluzione esercizio)\n",
    "#leggere richiesta\n",
    "#pensare allo svolgimento migliore\n",
    "#redazione dell esercizio\n",
    "#outpu consegna esercizio"
   ]
  },
  {
   "cell_type": "code",
   "execution_count": null,
   "id": "d7d6b3c7-4493-495a-8819-1fdb6ade5e52",
   "metadata": {},
   "outputs": [],
   "source": []
  },
  {
   "cell_type": "code",
   "execution_count": 1,
   "id": "b72e9aa7-481b-4bbc-8ace-50cbc71d4288",
   "metadata": {
    "tags": []
   },
   "outputs": [],
   "source": [
    "#Abbiamo 25 studenti; memorizzare questo dato in una variabile.\n",
    "x = 25"
   ]
  },
  {
   "cell_type": "code",
   "execution_count": 2,
   "id": "ae23d981-43eb-4a72-a4c4-0c2b4dbbc085",
   "metadata": {
    "tags": []
   },
   "outputs": [
    {
     "name": "stdout",
     "output_type": "stream",
     "text": [
      "25\n"
     ]
    }
   ],
   "source": [
    "#Abbiamo 25 studenti; memorizzare questo dato in una variabile e stamparla a video.\n",
    "print(x)"
   ]
  },
  {
   "cell_type": "code",
   "execution_count": 3,
   "id": "7a5be471-677b-4f0f-90cf-18244f8a01bc",
   "metadata": {
    "tags": []
   },
   "outputs": [],
   "source": [
    "#Abbiamo 25 studenti; memorizzare questo dato in una variabile. Arrivano altri 3 studenti; memorizzare questo dato in un'altra variabile.\n",
    "y = 3"
   ]
  },
  {
   "cell_type": "code",
   "execution_count": 5,
   "id": "18676fed-013f-4501-b26c-73fffeb8a58a",
   "metadata": {
    "tags": []
   },
   "outputs": [
    {
     "name": "stdout",
     "output_type": "stream",
     "text": [
      "28\n"
     ]
    }
   ],
   "source": [
    "# Creare un'altra variabile ancora che conterrà la somma delle prime due, poi stamparla a video.\n",
    "z = x+y\n",
    "print(z)"
   ]
  },
  {
   "cell_type": "code",
   "execution_count": 7,
   "id": "30332add-5638-4e9a-a6fe-4e65bf162f7f",
   "metadata": {
    "tags": []
   },
   "outputs": [
    {
     "name": "stdout",
     "output_type": "stream",
     "text": [
      "Epicode\n"
     ]
    }
   ],
   "source": [
    "#Creare una variabile che contiene la stringa \"Epicode\", quindi stamparla a video.\n",
    "string = 'Epicode'\n",
    "print(string)"
   ]
  },
  {
   "cell_type": "code",
   "execution_count": 45,
   "id": "839a694c-eef0-4827-aa89-7e61dbcef05d",
   "metadata": {
    "tags": []
   },
   "outputs": [
    {
     "name": "stdout",
     "output_type": "stream",
     "text": [
      "36\n"
     ]
    }
   ],
   "source": [
    "x = 10\n",
    "x +=2\n",
    "x*=3\n",
    "print(x)\n"
   ]
  },
  {
   "cell_type": "code",
   "execution_count": 13,
   "id": "38d496d3-aca6-49fc-9c0a-9efaa8012b0d",
   "metadata": {
    "tags": []
   },
   "outputs": [
    {
     "name": "stdout",
     "output_type": "stream",
     "text": [
      "36\n"
     ]
    }
   ],
   "source": [
    "x=(10+2)*3\n",
    "print(x)"
   ]
  },
  {
   "cell_type": "code",
   "execution_count": 21,
   "id": "7d2247ef-3f89-44c5-adb3-fd3b175946f0",
   "metadata": {
    "tags": []
   },
   "outputs": [
    {
     "name": "stdout",
     "output_type": "stream",
     "text": [
      "True\n",
      "True\n",
      "False\n",
      "True\n",
      "False\n",
      "False\n",
      "True\n"
     ]
    }
   ],
   "source": [
    "#Verificare, per ognuna delle seguenti stringhe, se il numero di caratteri è compreso tra 5 e 8:\n",
    "a = len(\"Windows\") > 5\n",
    "b = len(\"Windows\") < 8\n",
    "c = len(\"Excel\" ) > 5\n",
    "d = len(\"Excel\" ) < 8\n",
    "e = len(\"Powerpoint\") > 5\n",
    "f = len(\"Powerpoint\") < 8\n",
    "g = len(\"Word\") > 5\n",
    "h = len(\"Word\") < 8\n",
    "print(a)\n",
    "print(b)\n",
    "print(c)\n",
    "print(e)\n",
    "print(f)\n",
    "print(g)\n",
    "print(h)"
   ]
  },
  {
   "cell_type": "code",
   "execution_count": 24,
   "id": "a67fcbc6-caea-4584-845d-f36244c61d31",
   "metadata": {
    "tags": []
   },
   "outputs": [
    {
     "name": "stdout",
     "output_type": "stream",
     "text": [
      "31536000\n"
     ]
    }
   ],
   "source": [
    "#Calcolare e stampare a video quanti secondi ci sono in un anno non bisestile.\n",
    "#365 giorni dell anno , 24 ore in un giorno , 60 minuti in un ora , 60 secondi in un minuto\n",
    "anno_non_bisestile = 365 * 24 * 60 *60\n",
    "print(anno_non_bisestile)\n"
   ]
  },
  {
   "cell_type": "code",
   "execution_count": 43,
   "id": "9ac4666b-5fe6-406e-8907-66c070bf2554",
   "metadata": {
    "tags": []
   },
   "outputs": [
    {
     "data": {
      "text/plain": [
       "'I AM STUDYING PYTHON'"
      ]
     },
     "execution_count": 43,
     "metadata": {},
     "output_type": "execute_result"
    }
   ],
   "source": [
    "#Abbiamo la seguente stringa:\n",
    "#my_string = \"I am studying Python\" •\n",
    "# Trasformarla in modo che tutti i caratteri siano maiuscoli (uppercase) •\n",
    "#Trasformarla in modo che tutti i caratteri siano minuscoli (lowercase) • \n",
    "#Sostituire la sottostringa \"Python\" con la stringa \"a lot\" •\n",
    "#Usare il metodo .strip(); cambia qualcosa? Perché?\n",
    "my_string = \"I am studying Python\"\n",
    "my_string.upper()"
   ]
  },
  {
   "cell_type": "code",
   "execution_count": 30,
   "id": "7078f23e-f4f3-4d7c-8684-3749e69fa162",
   "metadata": {
    "tags": []
   },
   "outputs": [
    {
     "data": {
      "text/plain": [
       "'i am studying python'"
      ]
     },
     "execution_count": 30,
     "metadata": {},
     "output_type": "execute_result"
    }
   ],
   "source": [
    "my_string.lower()\n"
   ]
  },
  {
   "cell_type": "code",
   "execution_count": 40,
   "id": "ba44c0d9-9bea-4246-b6a1-1eea4c2602d6",
   "metadata": {
    "tags": []
   },
   "outputs": [],
   "source": [
    " a = my_string.replace('Python','a lot')"
   ]
  },
  {
   "cell_type": "code",
   "execution_count": 38,
   "id": "477bb67a-7168-4781-954d-adf40b0733b3",
   "metadata": {
    "tags": []
   },
   "outputs": [
    {
     "name": "stdout",
     "output_type": "stream",
     "text": [
      "I am studying a lot\n"
     ]
    }
   ],
   "source": [
    "print(a)"
   ]
  },
  {
   "cell_type": "code",
   "execution_count": 42,
   "id": "e97bb123-98f0-4afc-8509-e89c34ece79f",
   "metadata": {
    "tags": []
   },
   "outputs": [
    {
     "name": "stdout",
     "output_type": "stream",
     "text": [
      "I am studying a lot\n"
     ]
    }
   ],
   "source": [
    "b = a.strip()\n",
    "print(b)"
   ]
  },
  {
   "cell_type": "code",
   "execution_count": null,
   "id": "d01c2395-d4a5-4bf9-84cf-4b66af5923dd",
   "metadata": {},
   "outputs": [],
   "source": [
    "#.strip() toglie gli spazi all'inizio e alla fine ma in questo caso non cambia nulla \n"
   ]
  },
  {
   "cell_type": "code",
   "execution_count": null,
   "id": "e76cfbe8-4bc9-4bfd-b371-60bb09ba7f2d",
   "metadata": {},
   "outputs": [],
   "source": []
  }
 ],
 "metadata": {
  "kernelspec": {
   "display_name": "Python 3 (ipykernel)",
   "language": "python",
   "name": "python3"
  },
  "language_info": {
   "codemirror_mode": {
    "name": "ipython",
    "version": 3
   },
   "file_extension": ".py",
   "mimetype": "text/x-python",
   "name": "python",
   "nbconvert_exporter": "python",
   "pygments_lexer": "ipython3",
   "version": "3.11.5"
  }
 },
 "nbformat": 4,
 "nbformat_minor": 5
}
